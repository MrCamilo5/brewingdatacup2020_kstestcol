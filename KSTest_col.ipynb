{
  "nbformat": 4,
  "nbformat_minor": 0,
  "metadata": {
    "colab": {
      "name": "KSTest_col.ipynb",
      "private_outputs": true,
      "provenance": [],
      "mount_file_id": "1bvyYhYOysVNbitade2QkkDYFm0iCNHS5",
      "authorship_tag": "ABX9TyOgqmQNL7GNBJZBxwmLZXca",
      "include_colab_link": true
    },
    "kernelspec": {
      "name": "python3",
      "display_name": "Python 3"
    }
  },
  "cells": [
    {
      "cell_type": "markdown",
      "metadata": {
        "id": "view-in-github",
        "colab_type": "text"
      },
      "source": [
        "<a href=\"https://colab.research.google.com/github/MrCamilo5/brewingdatacup2020_kstestcol/blob/main/KSTest_col.ipynb\" target=\"_parent\"><img src=\"https://colab.research.google.com/assets/colab-badge.svg\" alt=\"Open In Colab\"/></a>"
      ]
    },
    {
      "cell_type": "markdown",
      "metadata": {
        "id": "5vhR6j3xCUdy"
      },
      "source": [
        "# Datos\n",
        "Rutas\n",
        "\n",
        "1.   Input1_clientes_estructura.csv\n",
        "2.   Input2_clientes_venta.csv\n",
        "3.  Input3_clientes_test.csv\n",
        "\n",
        "\n",
        "\n",
        "---\n",
        "\n",
        "\n",
        "\n",
        "1. Marca1: Marca_20 - Cupo_3 - CapacidadEnvase_9\n",
        "2. Marca2: Marca_16- Cupo_2 - CapacidadEnvase_10\n",
        "3. Marca3: Marca_9-Cupo_3-CapacidadEnvase_12\n",
        "4. Marca_Inno1: Marca_38- Cupo_2 -CapacidadEnvase_10\n",
        "5. Marca_Inno2: Marca_39-Cupo_2-CapacidadEnvase_10"
      ]
    },
    {
      "cell_type": "code",
      "metadata": {
        "id": "x-ov7QsHCXU4"
      },
      "source": [
        "import pandas as pd\n",
        "import numpy as np"
      ],
      "execution_count": null,
      "outputs": []
    },
    {
      "cell_type": "code",
      "metadata": {
        "id": "rpO5xS9wClNx"
      },
      "source": [
        "df2=pd.read_csv('Input2_clientes_venta.csv', sep=';')\n",
        "df2.head()"
      ],
      "execution_count": null,
      "outputs": []
    },
    {
      "cell_type": "code",
      "metadata": {
        "id": "FncX-dEtCpLS"
      },
      "source": [
        "df2=df2.iloc[:,[2,4,5,6]]"
      ],
      "execution_count": null,
      "outputs": []
    },
    {
      "cell_type": "markdown",
      "metadata": {
        "id": "WFTHciehDDfm"
      },
      "source": [
        "**Limpieza**"
      ]
    },
    {
      "cell_type": "code",
      "metadata": {
        "id": "WIqhgBEaDXks"
      },
      "source": [
        "fdb=pd.get_dummies(df2)"
      ],
      "execution_count": null,
      "outputs": []
    },
    {
      "cell_type": "code",
      "metadata": {
        "id": "0uCH4uIbDaeH"
      },
      "source": [
        "colacep=['Cliente',\n",
        "         'Marca2_Marca_20','Marca2_Marca_16','Marca2_Marca_9','Marca2_Marca_38','Marca2_Marca_39',\n",
        "         'Cupo2_Cupo_3','Cupo2_Cupo_2',\n",
        "         'CapacidadEnvase2_CapacidadEnvase_9','CapacidadEnvase2_CapacidadEnvase_10','CapacidadEnvase2_CapacidadEnvase_12']"
      ],
      "execution_count": null,
      "outputs": []
    },
    {
      "cell_type": "code",
      "metadata": {
        "id": "tp7ZW6qFDe33"
      },
      "source": [
        "allcol=fdb.columns.values\n",
        "for i in allcol:\n",
        "  if i in colacep:\n",
        "    pass\n",
        "  else:\n",
        "    fdb.drop([i], axis = 'columns', inplace=True)\n",
        "fdb=fdb.groupby('Cliente', sort=False).sum().astype(int)"
      ],
      "execution_count": null,
      "outputs": []
    },
    {
      "cell_type": "code",
      "metadata": {
        "id": "9ycgSgXPDmMz"
      },
      "source": [
        "ndf=fdb.assign(Marca1=fdb.Marca2_Marca_20+fdb.Cupo2_Cupo_3+fdb.CapacidadEnvase2_CapacidadEnvase_9,\n",
        "               Marca2=fdb.Marca2_Marca_16+fdb.Cupo2_Cupo_2+fdb.CapacidadEnvase2_CapacidadEnvase_10,\n",
        "               Marca3=fdb.Marca2_Marca_9+fdb.Cupo2_Cupo_3+fdb.CapacidadEnvase2_CapacidadEnvase_12,\n",
        "               Marca_Inno1=fdb.Marca2_Marca_38+fdb.Cupo2_Cupo_2+fdb.CapacidadEnvase2_CapacidadEnvase_10,\n",
        "               Marca_Inno2=fdb.Marca2_Marca_39+fdb.Cupo2_Cupo_2+fdb.CapacidadEnvase2_CapacidadEnvase_10)"
      ],
      "execution_count": null,
      "outputs": []
    },
    {
      "cell_type": "code",
      "metadata": {
        "id": "z0mIJjNmDp99"
      },
      "source": [
        "allcol2=ndf.columns.values\n",
        "for i in allcol2:\n",
        "  if i in colacep:\n",
        "    ndf.drop([i], axis = 'columns', inplace=True)\n",
        "  else:\n",
        "    pass\n",
        "ndf.to_csv('datosres.csv')"
      ],
      "execution_count": null,
      "outputs": []
    },
    {
      "cell_type": "markdown",
      "metadata": {
        "id": "ppOAoOpyGPEH"
      },
      "source": [
        "*Escoger la muestra de los datos*"
      ]
    },
    {
      "cell_type": "code",
      "metadata": {
        "id": "XancYD7xEDlA"
      },
      "source": [
        "resp=pd.read_csv('Input3_clientes_test.csv', sep=';')"
      ],
      "execution_count": null,
      "outputs": []
    },
    {
      "cell_type": "code",
      "metadata": {
        "id": "uHiVS5dFGe6t"
      },
      "source": [
        "datos=pd.read_csv('datosres.csv', index_col=[0])"
      ],
      "execution_count": null,
      "outputs": []
    },
    {
      "cell_type": "code",
      "metadata": {
        "id": "iuOjr55EFeJP"
      },
      "source": [
        "size=(resp.shape[0],resp.shape[1]-1)\n",
        "xy=np.zeros(size).astype(int)\n",
        "res= resp['Cliente'].values"
      ],
      "execution_count": null,
      "outputs": []
    },
    {
      "cell_type": "code",
      "metadata": {
        "id": "YGHbWL7NF11L"
      },
      "source": [
        "j=0\n",
        "for i in res:\n",
        "  l=datos.index.get_loc(i)\n",
        "  xy[j]=datos.values[l]\n",
        "  j+=1\n",
        "\n",
        "#xy --> muestra"
      ],
      "execution_count": null,
      "outputs": []
    },
    {
      "cell_type": "markdown",
      "metadata": {
        "id": "bAciHVPPHO9o"
      },
      "source": [
        "*Prueba de bondad y ajuste*"
      ]
    },
    {
      "cell_type": "code",
      "metadata": {
        "id": "ZaucKH9iHUOj"
      },
      "source": [
        "import scipy.stats as ss\n",
        "from scipy.stats import kstest"
      ],
      "execution_count": null,
      "outputs": []
    },
    {
      "cell_type": "code",
      "metadata": {
        "id": "HzwRaT00Hhks"
      },
      "source": [
        "for i in ndf.columns.values:\n",
        "  mu, s = ss.norm.fit(ndf[i])\n",
        "  print(kstest(ndf[i],\"norm\" ,args=(mu,s)))"
      ],
      "execution_count": null,
      "outputs": []
    },
    {
      "cell_type": "markdown",
      "metadata": {
        "id": "3BxWdQBqIp7O"
      },
      "source": [
        "# Cálculo de probabilidades "
      ]
    },
    {
      "cell_type": "code",
      "metadata": {
        "id": "n6t-kcutIdH0"
      },
      "source": [
        "from sklearn.preprocessing import StandardScaler"
      ],
      "execution_count": null,
      "outputs": []
    },
    {
      "cell_type": "code",
      "metadata": {
        "id": "qm1RH7VGIfUp"
      },
      "source": [
        "standar=StandardScaler()"
      ],
      "execution_count": null,
      "outputs": []
    },
    {
      "cell_type": "code",
      "metadata": {
        "id": "flo6maCLIxSm"
      },
      "source": [
        "x=ndf.values\n",
        "xst=standar.fit_transform(x)\n",
        "x_ms=standar.fit_transform(xy)"
      ],
      "execution_count": null,
      "outputs": []
    },
    {
      "cell_type": "code",
      "metadata": {
        "id": "soySxyaEI6J3"
      },
      "source": [
        "mu, st= ss.norm.fit(xst)\n",
        "resultado = ss.norm(mu,st).cdf(x_ms)"
      ],
      "execution_count": null,
      "outputs": []
    },
    {
      "cell_type": "code",
      "metadata": {
        "id": "JB_NOWRZJa7F"
      },
      "source": [
        "col=resp.columns.values[1:]"
      ],
      "execution_count": null,
      "outputs": []
    },
    {
      "cell_type": "code",
      "metadata": {
        "id": "c49otDhqJ1iQ"
      },
      "source": [
        "j=0\n",
        "for i in col:\n",
        "  resp[i]=resultado[:,j]"
      ],
      "execution_count": null,
      "outputs": []
    },
    {
      "cell_type": "code",
      "metadata": {
        "id": "dnWhNcPXKCvX"
      },
      "source": [
        "resp=resp.round(6)\n",
        "resp.head()"
      ],
      "execution_count": null,
      "outputs": []
    },
    {
      "cell_type": "markdown",
      "metadata": {
        "id": "VP9W4pXZKRN4"
      },
      "source": [
        "**Resultado**"
      ]
    },
    {
      "cell_type": "code",
      "metadata": {
        "id": "1XLE55ywKP36"
      },
      "source": [
        "resp.to_csv('Resultados_kstest.csv', sep=',', index=False)"
      ],
      "execution_count": null,
      "outputs": []
    }
  ]
}